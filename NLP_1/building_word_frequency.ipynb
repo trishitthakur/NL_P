{
 "cells": [
  {
   "cell_type": "code",
   "execution_count": null,
   "id": "78820625",
   "metadata": {},
   "outputs": [],
   "source": [
    "## from natural langauge specialization and coded by trishit nath thakur"
   ]
  },
  {
   "cell_type": "code",
   "execution_count": null,
   "id": "61fde2d0",
   "metadata": {},
   "outputs": [],
   "source": [
    "import nltk                                  # Python library for NLP\n",
    "\n",
    "from nltk.corpus import twitter_samples      # sample Twitter dataset from NLTK\n",
    "\n",
    "import matplotlib.pyplot as plt              # visualization library\n",
    "\n",
    "import numpy as np                           # library for matrix operations"
   ]
  },
  {
   "cell_type": "code",
   "execution_count": null,
   "id": "c5638f13",
   "metadata": {},
   "outputs": [],
   "source": [
    "# download the stopwords for the process_tweet function\n",
    "nltk.download('stopwords')\n",
    "\n",
    "# import our convenience functions\n",
    "from utils import process_tweet, build_freqs"
   ]
  },
  {
   "cell_type": "code",
   "execution_count": null,
   "id": "e71cc93c",
   "metadata": {},
   "outputs": [],
   "source": [
    "# select the lists of positive and negative tweets\n",
    "\n",
    "all_positive_tweets = twitter_samples.strings('positive_tweets.json')\n",
    "all_negative_tweets = twitter_samples.strings('negative_tweets.json')\n",
    "\n",
    "# concatenate the lists, 1st part is the positive tweets followed by the negative\n",
    "\n",
    "tweets = all_positive_tweets + all_negative_tweets\n",
    "\n",
    "# let's see how many tweets we have\n",
    "print(\"Number of tweets: \", len(tweets))"
   ]
  },
  {
   "cell_type": "code",
   "execution_count": null,
   "id": "3fc898aa",
   "metadata": {},
   "outputs": [],
   "source": [
    "labels = np.append(np.ones((len(all_positive_tweets))), np.zeros((len(all_negative_tweets))))"
   ]
  },
  {
   "cell_type": "code",
   "execution_count": null,
   "id": "d7c11513",
   "metadata": {},
   "outputs": [],
   "source": [
    "## word frequence dictionary"
   ]
  },
  {
   "cell_type": "code",
   "execution_count": null,
   "id": "c21da058",
   "metadata": {},
   "outputs": [],
   "source": [
    "def build_freqs(tweets, ys):\n",
    "    '''tweets: a list of tweets\n",
    "        ys: an m x 1 array with the sentiment label of each tweet\n",
    "            (either 0 or 1)\n",
    "        Output:\n",
    "        freqs: a dictionary mapping each (word, sentiment) pair to its\n",
    "        frequency'''\n",
    "    yslist = np.squeeze(ys).tolist()\n",
    "    \n",
    "    freqs = {}\n",
    "    for y, tweet in zip(yslist, tweets):\n",
    "        for word in process_tweet(tweet):\n",
    "            pair = (word, y)\n",
    "            if pair in freqs:\n",
    "                freqs[pair] += 1\n",
    "            else:\n",
    "                freqs[pair] = 1\n",
    "    return freqs\n"
   ]
  },
  {
   "cell_type": "code",
   "execution_count": null,
   "id": "29691832",
   "metadata": {},
   "outputs": [],
   "source": [
    "# create frequency dictionary\n",
    "freqs = build_freqs(tweets, labels)\n",
    "\n",
    "# check length of the dictionary\n",
    "print(f'len(freqs) = {len(freqs)}')\n"
   ]
  },
  {
   "cell_type": "code",
   "execution_count": null,
   "id": "169ca6ef",
   "metadata": {},
   "outputs": [],
   "source": [
    "## table of word count"
   ]
  },
  {
   "cell_type": "code",
   "execution_count": null,
   "id": "e995f84c",
   "metadata": {},
   "outputs": [],
   "source": [
    "keys = ['happi', 'merri', 'nice', 'good', 'bad', 'sad', 'mad', 'best', 'pretti',\n",
    "        '❤', ':)', ':(', '😒', '😬', '😄', '😍', '♛',\n",
    "        'song', 'idea', 'power', 'play', 'magnific']"
   ]
  },
  {
   "cell_type": "code",
   "execution_count": null,
   "id": "90b67ca1",
   "metadata": {},
   "outputs": [],
   "source": [
    "data = []\n",
    "\n",
    "for word in keys:\n",
    "    pos = 0\n",
    "    neg = 0\n",
    "    \n",
    "    if (word, 1) in freqs:\n",
    "        pos = freqs[(word, 1)]\n",
    "    \n",
    "    if (word, 0) in freqs:\n",
    "        neg = freqs[(word, 0)]\n",
    "        \n",
    "    data.append([word, pos, neg])"
   ]
  },
  {
   "cell_type": "code",
   "execution_count": null,
   "id": "943a826a",
   "metadata": {},
   "outputs": [],
   "source": [
    "## visualizing the table"
   ]
  },
  {
   "cell_type": "code",
   "execution_count": null,
   "id": "b5d2591b",
   "metadata": {},
   "outputs": [],
   "source": [
    "fig, ax = plt.subplots(figsize = (8,8))\n",
    "\n",
    "x = np.log([x[1] + 1 for x in data])\n",
    "\n",
    "y = np.log([x[2] + 1 for x in data])\n",
    "\n",
    "ax.scatter(x, y)\n",
    "\n",
    "plt.xlabel(\"Log Positive count\")\n",
    "plt.ylabel(\"Log Negative count\")\n",
    "\n",
    "for i in range(o, len(data)):\n",
    "    ax.annotate(data[i][0], (x[i], y[i]), fontsize = 12)\n",
    "    \n",
    "ax.plot([0, 9], [0, 9], color = 'red') \n",
    "plt.show()\n"
   ]
  }
 ],
 "metadata": {
  "kernelspec": {
   "display_name": "Python 3 (ipykernel)",
   "language": "python",
   "name": "python3"
  },
  "language_info": {
   "codemirror_mode": {
    "name": "ipython",
    "version": 3
   },
   "file_extension": ".py",
   "mimetype": "text/x-python",
   "name": "python",
   "nbconvert_exporter": "python",
   "pygments_lexer": "ipython3",
   "version": "3.8.12"
  }
 },
 "nbformat": 4,
 "nbformat_minor": 5
}
