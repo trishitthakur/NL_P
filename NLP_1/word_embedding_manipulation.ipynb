{
 "cells": [
  {
   "cell_type": "markdown",
   "id": "a5dcfb7e",
   "metadata": {},
   "source": [
    "## word_embeddings manipulation to find capital city"
   ]
  },
  {
   "cell_type": "code",
   "execution_count": 1,
   "id": "b0549e6b",
   "metadata": {},
   "outputs": [],
   "source": [
    "## From NLP specialization and coded by trishit nath thakur"
   ]
  },
  {
   "cell_type": "code",
   "execution_count": 2,
   "id": "8dd6b9c8",
   "metadata": {},
   "outputs": [],
   "source": [
    "import pandas as pd # Library for Dataframes \n",
    "import numpy as np # Library for math functions\n",
    "import pickle # Python object serialization library"
   ]
  },
  {
   "cell_type": "code",
   "execution_count": null,
   "id": "728f2e47",
   "metadata": {},
   "outputs": [],
   "source": [
    "word_embeddings = pickle.load( open( \"word_embeddings_subset.p\", \"rb\" ) )"
   ]
  },
  {
   "cell_type": "code",
   "execution_count": null,
   "id": "eef56019",
   "metadata": {},
   "outputs": [],
   "source": [
    "countryVector = word_embeddings['country']"
   ]
  },
  {
   "cell_type": "code",
   "execution_count": null,
   "id": "d05f5b1b",
   "metadata": {},
   "outputs": [],
   "source": [
    "# getting vector of given word"
   ]
  },
  {
   "cell_type": "code",
   "execution_count": null,
   "id": "01f65810",
   "metadata": {},
   "outputs": [],
   "source": [
    "def vec(w):\n",
    "    return word_embeddings[w]"
   ]
  },
  {
   "cell_type": "code",
   "execution_count": null,
   "id": "8b608596",
   "metadata": {},
   "outputs": [],
   "source": [
    "# word embedding operations"
   ]
  },
  {
   "cell_type": "code",
   "execution_count": null,
   "id": "bc8fa0df",
   "metadata": {},
   "outputs": [],
   "source": [
    "import matplotlib.pyplot as plt"
   ]
  },
  {
   "cell_type": "code",
   "execution_count": null,
   "id": "6a8ae73c",
   "metadata": {},
   "outputs": [],
   "source": [
    "# visualising the words"
   ]
  },
  {
   "cell_type": "code",
   "execution_count": null,
   "id": "968146bd",
   "metadata": {},
   "outputs": [],
   "source": [
    "words = ['oil', 'gas', 'happy', 'sad', 'city', 'town', 'village', 'country', 'continent', 'petroleum', 'joyful']\n",
    "\n",
    "bag2d = np.array(vec(word) for word in words)\n",
    "\n",
    "fig, ax = plt.subplots(figsize = (10, 10))\n",
    "\n",
    "col1 = 3\n",
    "col2 = 2\n",
    "\n",
    "# plotting arrow\n",
    "for word in bag2d:\n",
    "    ax.arrow(0, 0, word[col1], word[col2], head_width=0.005, head_length=0.005, fc='r', ec='r', width=1e-5)\n",
    "    \n",
    "ax.scatter(bag2d[:, col1], bag2d[:, col2]) # plotting a dot\n",
    "\n",
    "# adding word label over each dot\n",
    "for i in range(0, len(words)):\n",
    "    ax.annotate(words[i], (bag2d[i, col1], bag2d[i, col2]))\n",
    "    \n",
    "plt.show()"
   ]
  },
  {
   "cell_type": "code",
   "execution_count": null,
   "id": "c02cb59a",
   "metadata": {},
   "outputs": [],
   "source": [
    "## word distance"
   ]
  },
  {
   "cell_type": "code",
   "execution_count": null,
   "id": "4981eb25",
   "metadata": {},
   "outputs": [],
   "source": [
    "words = ['sad', 'happy', 'town', 'village']"
   ]
  },
  {
   "cell_type": "code",
   "execution_count": null,
   "id": "ad9e476f",
   "metadata": {},
   "outputs": [],
   "source": [
    "bag2d = np.array([vec(word) for word in words]) # word to vector"
   ]
  },
  {
   "cell_type": "code",
   "execution_count": null,
   "id": "9b2de924",
   "metadata": {},
   "outputs": [],
   "source": [
    "# visualising"
   ]
  },
  {
   "cell_type": "code",
   "execution_count": null,
   "id": "7f307102",
   "metadata": {},
   "outputs": [],
   "source": [
    "fig, ax = plt.subplots(figsize = (10, 10))\n",
    "\n",
    "col1 = 3\n",
    "col2 = 2\n",
    "\n",
    "# arrow for each word\n",
    "for word in bag2d:\n",
    "    ax.arrow(0, 0, word[col1], word[col2], head_width=0.0005, head_length=0.0005, fc='r', ec='r', width = 1e-5)\n",
    "    \n",
    "# print the vector difference between village and town\n",
    "\n",
    "village = vec('village')\n",
    "town = vec('town')\n",
    "\n",
    "diff = town-village\n",
    "\n",
    "ax.arrow(village[col1], village[col2], diff[col1], diff[col2], fc='b', ec='b', width=1e-5)\n",
    "\n",
    "ax.scatter(bag2d[:, col1], bag2d[:, col2]) # dot for each word\n",
    "\n",
    "for i in range(0, len(words)):\n",
    "    ax.annotate(words[i], (bag2d[i, col1], bag2d[i, col2])) # adding word label\n",
    "\n",
    "\n",
    "plt.show()"
   ]
  },
  {
   "cell_type": "code",
   "execution_count": null,
   "id": "d17c3105",
   "metadata": {},
   "outputs": [],
   "source": [
    "# linear algebra applications"
   ]
  },
  {
   "cell_type": "code",
   "execution_count": null,
   "id": "3dd1f993",
   "metadata": {},
   "outputs": [],
   "source": [
    "print(np.linalg.norm(vec('town')))"
   ]
  },
  {
   "cell_type": "code",
   "execution_count": null,
   "id": "e6503bb5",
   "metadata": {},
   "outputs": [],
   "source": [
    "# predicting the capital"
   ]
  },
  {
   "cell_type": "code",
   "execution_count": null,
   "id": "1343b412",
   "metadata": {},
   "outputs": [],
   "source": [
    "capital = vec('France') - vec('Paris')\n",
    "country = vec('Madrid') + capital"
   ]
  },
  {
   "cell_type": "code",
   "execution_count": null,
   "id": "6772c287",
   "metadata": {},
   "outputs": [],
   "source": [
    "print(country[0:5])"
   ]
  },
  {
   "cell_type": "code",
   "execution_count": null,
   "id": "a097a66c",
   "metadata": {},
   "outputs": [],
   "source": [
    "# creating dataframe of dictionary embeddings"
   ]
  },
  {
   "cell_type": "code",
   "execution_count": null,
   "id": "36ca8076",
   "metadata": {},
   "outputs": [],
   "source": [
    "keys = word_embeddings.keys()\n",
    "\n",
    "data = []\n",
    "\n",
    "for key in keys:\n",
    "    data.append(word_embeddings[key])\n",
    "    \n",
    "embedding = pd.DataFrame(data = data, index = keys)\n",
    "\n",
    "# fucntion to find the closest word to vector\n",
    "\n",
    "def find_closest_vector(v, k = 1):\n",
    "    \n",
    "    diff = embedding.values - v\n",
    "    \n",
    "    delta = np.sum(diff * diff, axis = 1)  # the squared euclidean distance from each word to the input vector\n",
    "    \n",
    "    i = np.argmin(delta)\n",
    "    \n",
    "    return embedding.iloc[i].name"
   ]
  },
  {
   "cell_type": "code",
   "execution_count": null,
   "id": "b59d73f3",
   "metadata": {},
   "outputs": [],
   "source": [
    "find_closest_word(vec('Italy') - vec('Rome') + vec('Madrid'))"
   ]
  },
  {
   "cell_type": "code",
   "execution_count": null,
   "id": "fc189ae7",
   "metadata": {},
   "outputs": [],
   "source": [
    "print(find_closest_word(vec('Beijing') + capital))"
   ]
  }
 ],
 "metadata": {
  "kernelspec": {
   "display_name": "Python 3 (ipykernel)",
   "language": "python",
   "name": "python3"
  },
  "language_info": {
   "codemirror_mode": {
    "name": "ipython",
    "version": 3
   },
   "file_extension": ".py",
   "mimetype": "text/x-python",
   "name": "python",
   "nbconvert_exporter": "python",
   "pygments_lexer": "ipython3",
   "version": "3.8.12"
  }
 },
 "nbformat": 4,
 "nbformat_minor": 5
}
