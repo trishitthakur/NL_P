{
 "cells": [
  {
   "cell_type": "code",
   "execution_count": null,
   "id": "f5c01f11",
   "metadata": {},
   "outputs": [],
   "source": [
    "## from NLP specialization and coded by trishit nath thakur"
   ]
  },
  {
   "cell_type": "markdown",
   "id": "67586b49",
   "metadata": {},
   "source": [
    "# Visualizing Naive Bayes"
   ]
  },
  {
   "cell_type": "code",
   "execution_count": null,
   "id": "af9ec64a",
   "metadata": {},
   "outputs": [],
   "source": [
    "import numpy as np \n",
    "import pandas as pd \n",
    "\n",
    "import matplotlib.pyplot as plt\n",
    "from utils import confidence_ellipse "
   ]
  },
  {
   "cell_type": "code",
   "execution_count": null,
   "id": "8e1b498d",
   "metadata": {},
   "outputs": [],
   "source": [
    "data = pd.read_csv('bayes_features.csv'); \n",
    "\n",
    "data.head(5) # Print the first 5 tweets features"
   ]
  },
  {
   "cell_type": "code",
   "execution_count": null,
   "id": "a7e8462c",
   "metadata": {},
   "outputs": [],
   "source": [
    "## plotting "
   ]
  },
  {
   "cell_type": "code",
   "execution_count": null,
   "id": "748fc4e9",
   "metadata": {},
   "outputs": [],
   "source": [
    "fig, ax = plt.subplots(figsize = (8, 8))\n",
    "\n",
    "colors = ['red', 'green']\n",
    "\n",
    "ax.scatter(data.positive, data.negetive, c=[colors[int(k)] for k in data.sentiment], s = 0.1, markers = '*')\n",
    "\n",
    "plt.xlim(-250,0)\n",
    "plt.ylim(-250,0)\n",
    "\n",
    "plt.xlabel(\"Positive\") \n",
    "plt.ylabel(\"Negative\") "
   ]
  },
  {
   "cell_type": "code",
   "execution_count": null,
   "id": "7ca5a648",
   "metadata": {},
   "outputs": [],
   "source": [
    "## plotting confidence ellipses"
   ]
  },
  {
   "cell_type": "code",
   "execution_count": null,
   "id": "ab66dd86",
   "metadata": {},
   "outputs": [],
   "source": [
    "fig, ax = plt.subplots(figsize = (8, 8))\n",
    "\n",
    "colors = ['red', 'green']\n",
    "\n",
    "ax.scatter(data.positive, data.negative, c=[colors[int(k)] for k in data.sentiment], s = 0.1, marker='*')\n",
    "\n",
    "plt.xlim(-200,40)  \n",
    "plt.ylim(-200,40)\n",
    "\n",
    "plt.xlabel(\"Positive\") \n",
    "plt.ylabel(\"Negative\")\n",
    "\n",
    "data_pos = data[data.sentiment == 1]\n",
    "data_neg = data[data.sentiment == 0]\n",
    "\n",
    "# confidence ellipse of 2 std\n",
    "\n",
    "confidence_ellipse(data_pos.positive, data_pos.negetive, ax, n_std=2, edgecolor='black', label=r'$2\\sigma$')\n",
    "confidence_ellipse(data_neg.positive, data_neg.negetive, ax, n_std=2, edgecolor='orange')\n",
    "\n",
    "plt.show()"
   ]
  }
 ],
 "metadata": {
  "kernelspec": {
   "display_name": "Python 3 (ipykernel)",
   "language": "python",
   "name": "python3"
  },
  "language_info": {
   "codemirror_mode": {
    "name": "ipython",
    "version": 3
   },
   "file_extension": ".py",
   "mimetype": "text/x-python",
   "name": "python",
   "nbconvert_exporter": "python",
   "pygments_lexer": "ipython3",
   "version": "3.8.12"
  }
 },
 "nbformat": 4,
 "nbformat_minor": 5
}
