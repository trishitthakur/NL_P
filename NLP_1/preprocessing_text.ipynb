{
 "cells": [
  {
   "cell_type": "code",
   "execution_count": null,
   "id": "e84a89d6",
   "metadata": {},
   "outputs": [],
   "source": [
    "import nltk                                # Python library for NLP\n",
    "\n",
    "from nltk.corpus import twitter_samples    # sample Twitter dataset from NLTK\n",
    "\n",
    "import matplotlib.pyplot as plt            # library for visualization\n",
    "\n",
    "import random                              # pseudo-random number generator"
   ]
  },
  {
   "cell_type": "code",
   "execution_count": null,
   "id": "f7b29b6f",
   "metadata": {},
   "outputs": [],
   "source": [
    "nltk.download('twitter_samples')"
   ]
  },
  {
   "cell_type": "code",
   "execution_count": null,
   "id": "43871789",
   "metadata": {},
   "outputs": [],
   "source": [
    "all_positive_tweets = twitter_samples.strings('positive_tweets.json')\n",
    "\n",
    "all_negative_tweets = twitter_samples.strings('negative_tweets.json')"
   ]
  },
  {
   "cell_type": "code",
   "execution_count": null,
   "id": "2a319c7c",
   "metadata": {},
   "outputs": [],
   "source": [
    "print('Number of positive tweets: ', len(all_positive_tweets))\n",
    "\n",
    "print('Number of negative tweets: ', len(all_negative_tweets))"
   ]
  },
  {
   "cell_type": "code",
   "execution_count": null,
   "id": "abd55092",
   "metadata": {},
   "outputs": [],
   "source": [
    "fig = plt.figure(figsize=(5,5))     #declaring a figure\n",
    "\n",
    "labels = 'positive', 'negetive'\n",
    "\n",
    "sizes = [len(all_positive_tweets), len(all_negative_tweets)]\n",
    "\n",
    "plt.pie(sizes, labels=labels, autopct='%1.1f%%', shadow =True, startangle=90) # sizes ordered and plotted counter CW\n",
    "\n",
    "plt.axis('equal') # pie drawn as a circle\n",
    "\n",
    "plt.show()"
   ]
  },
  {
   "cell_type": "code",
   "execution_count": null,
   "id": "00cb7489",
   "metadata": {},
   "outputs": [],
   "source": [
    "# print positive in greeen\n",
    "print('\\033[92m' + all_positive_tweets[random.randint(0,5000)])"
   ]
  },
  {
   "cell_type": "code",
   "execution_count": null,
   "id": "0f920be1",
   "metadata": {},
   "outputs": [],
   "source": [
    "tweet = all_positive_tweets[2277]"
   ]
  },
  {
   "cell_type": "code",
   "execution_count": null,
   "id": "b35c7d18",
   "metadata": {},
   "outputs": [],
   "source": [
    "nltk.download('stopwords')"
   ]
  },
  {
   "cell_type": "code",
   "execution_count": null,
   "id": "1240fb67",
   "metadata": {},
   "outputs": [],
   "source": [
    "import re                                  # library for regular exp operations\n",
    "\n",
    "import string                              # for string operations\n",
    "\n",
    "from nltk.corpus import stopwords          # module for stop words that come with NLTK\n",
    "\n",
    "from nltk.stem import PorterStemmer        # module for stemming\n",
    "\n",
    "from nltk.tokenize import TweetTokenizer   # module for tokenizing strings"
   ]
  },
  {
   "cell_type": "code",
   "execution_count": null,
   "id": "eb0dad0e",
   "metadata": {},
   "outputs": [],
   "source": [
    "tweet2 = re.sub(r'^RT[\\s]+', '', tweet)\n",
    "\n",
    "tweet2 = re.sub(r'^https?:\\/\\/.*[r\\n]*', '', tweet2)\n",
    "\n",
    "tweet2 = re.sub(r'#', '', tweet2)"
   ]
  },
  {
   "cell_type": "code",
   "execution_count": null,
   "id": "2360ed0d",
   "metadata": {},
   "outputs": [],
   "source": [
    "tokenizer = TweetTokenizer(preserve_case = False, strip_handles = True, reduce_len = True)\n",
    "\n",
    "tweet_tokens = tokenizer.tokenize(tweet2)"
   ]
  },
  {
   "cell_type": "code",
   "execution_count": null,
   "id": "77da8004",
   "metadata": {},
   "outputs": [],
   "source": [
    "stopwords_english = stopwords.words('english') "
   ]
  },
  {
   "cell_type": "code",
   "execution_count": null,
   "id": "13bb936a",
   "metadata": {},
   "outputs": [],
   "source": [
    "tweets_clean = []\n",
    "\n",
    "for word in tweet_tokens:\n",
    "    if(word not in stopwords_english and word not in string.puctuation):\n",
    "        tweets_clean.append(word)"
   ]
  },
  {
   "cell_type": "code",
   "execution_count": null,
   "id": "0a8ec528",
   "metadata": {},
   "outputs": [],
   "source": [
    "stemmer = PorterStemmer() \n",
    "tweets_stem = [] \n",
    "for word in tweets_clean:\n",
    "    stem_word = stemmer.stem(word) \n",
    "    tweets_stem.append(stem_word)  "
   ]
  }
 ],
 "metadata": {
  "kernelspec": {
   "display_name": "Python 3 (ipykernel)",
   "language": "python",
   "name": "python3"
  },
  "language_info": {
   "codemirror_mode": {
    "name": "ipython",
    "version": 3
   },
   "file_extension": ".py",
   "mimetype": "text/x-python",
   "name": "python",
   "nbconvert_exporter": "python",
   "pygments_lexer": "ipython3",
   "version": "3.8.12"
  }
 },
 "nbformat": 4,
 "nbformat_minor": 5
}
