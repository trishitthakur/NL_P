{
 "cells": [
  {
   "cell_type": "markdown",
   "id": "bcf90b2f",
   "metadata": {},
   "source": [
    "# Hash tables"
   ]
  },
  {
   "cell_type": "code",
   "execution_count": null,
   "id": "df3437c1",
   "metadata": {},
   "outputs": [],
   "source": [
    "## from the NLP specialization and coded by trishit nath thakur"
   ]
  },
  {
   "cell_type": "code",
   "execution_count": null,
   "id": "aa643a5a",
   "metadata": {},
   "outputs": [],
   "source": [
    "import numpy as np\n",
    "import pprint      # for console printing\n",
    "from utils_nb import plot_vectors\n",
    "import matplotlib.pyplot as plt\n",
    "\n",
    "pp = pprint.PrettyPrinter(indent = 4)"
   ]
  },
  {
   "cell_type": "code",
   "execution_count": null,
   "id": "bca8915b",
   "metadata": {},
   "outputs": [],
   "source": [
    "def basic_hash_table(value_l, n_buckets):\n",
    "    \n",
    "    def hash_function(value, n_buckets):\n",
    "        return int(value) % n_buckets\n",
    "    \n",
    "    hash_table = {i:[] for i in (n_buckets)}\n",
    "    \n",
    "    for value in value_l:\n",
    "        \n",
    "        hash_value = hash_function(value, n_buckets)\n",
    "        \n",
    "        hash_table[hash_value].append(value)\n",
    "        \n",
    "    return hash_table"
   ]
  },
  {
   "cell_type": "code",
   "execution_count": null,
   "id": "75bda7cd",
   "metadata": {},
   "outputs": [],
   "source": [
    "value_l = [100, 10, 14, 17, 97]\n",
    "\n",
    "hash_table_example = basic_hash_table(value_l, n_buckets=10)\n",
    "\n",
    "pp.pprint(hash_table_example)"
   ]
  },
  {
   "cell_type": "code",
   "execution_count": null,
   "id": "fc9de587",
   "metadata": {},
   "outputs": [],
   "source": [
    "P = np.array([[1, 1]])     # define single plane\n",
    "\n",
    "fig, ax1 = plt.subplots(figsize = (8,8))\n",
    "\n",
    "plot_vectors([P], axes=[2,2], ax = ax1)\n",
    "\n",
    "# plot random points\n",
    "\n",
    "for i in range(0,10):\n",
    "    \n",
    "    v1 = np.array(np.random.uniform(-2,2,2))\n",
    "    \n",
    "    side_of_plane = np.sign(np.dot(P, v1.T))\n",
    "    \n",
    "    if side_of_plane == 1:\n",
    "        ax1.plot([v1[0]], [v1[1]], 'bo')    # blue\n",
    "        \n",
    "    else:\n",
    "        ax1.plot([v1[0]], [v1[1]], 'ro')    # red\n",
    "\n",
    "plt.show()"
   ]
  },
  {
   "cell_type": "code",
   "execution_count": null,
   "id": "2a33a850",
   "metadata": {},
   "outputs": [],
   "source": [
    "P = np.array([[1,2]])\n",
    "\n",
    "PT = np.dot([[0,1], [-1,0]], P.T).T\n",
    "\n",
    "fig, ax1 = plt.subplots(figsize=(8, 8))\n",
    "\n",
    "plot_vectors([P], colors=['b'], axes=[2, 2], ax=ax1) # Plot the plane P as a vector\n",
    "\n",
    "# plotting plane perpendicular to P\n",
    "\n",
    "plot_vectors([PT * 4, PT * -4], colors = ['k', 'k'], axes = [4,4], ax = ax1)\n",
    "\n",
    "for i in range(0, 20):\n",
    "        \n",
    "        v1 = np.array(np.random.uniform(-4, 4, 2))\n",
    "        \n",
    "        side_of_plane = np.sign(np.dot(P, v1.T))\n",
    "        \n",
    "        if side_of_plane == 1:\n",
    "            ax1.plot([v1[0]], [v1[1]], 'bo') \n",
    "        else:\n",
    "            ax1.plot([v1[0]], [v1[1]], 'ro') \n",
    "\n",
    "plt.show()"
   ]
  },
  {
   "cell_type": "code",
   "execution_count": null,
   "id": "74cf6c17",
   "metadata": {},
   "outputs": [],
   "source": [
    "## function to check side of plane with vector\n",
    "\n",
    "def side_of_plane(P, v):\n",
    "    \n",
    "    dotproduct = np.dot(P, v.T)\n",
    "    \n",
    "    sign_of_dot_product = np.sign(dotproduct)\n",
    "    \n",
    "    sign_of_dot_product_scalar = sign_of_dot_product.item()\n",
    "    \n",
    "    return sign_of_dot_product_scalar"
   ]
  },
  {
   "cell_type": "code",
   "execution_count": null,
   "id": "2f412f2e",
   "metadata": {},
   "outputs": [],
   "source": [
    "P1 = np.array([[1, 1]])   # First plane 2D\n",
    "\n",
    "P2 = np.array([[-1, 1]])  # Second plane 2D\n",
    "\n",
    "P3 = np.array([[-1, -1]]) # Third plane 2D\n",
    "\n",
    "P_l = [P1, P2, P3]\n",
    "\n",
    "v = np.array([[2, 2]])"
   ]
  },
  {
   "cell_type": "code",
   "execution_count": null,
   "id": "fe92c6de",
   "metadata": {},
   "outputs": [],
   "source": [
    "def hash_multi_plane(P_l, v):\n",
    "    \n",
    "    hash_value = 0\n",
    "    \n",
    "    for i, P in enumerate(P_l):\n",
    "        \n",
    "        sign = side_of_plane(P, v)\n",
    "        \n",
    "        hash_i = 1 if sign >= 0 else 0\n",
    "        \n",
    "        hash_value += 2**i * hash_i\n",
    "    \n",
    "    return hash_value"
   ]
  },
  {
   "cell_type": "code",
   "execution_count": null,
   "id": "e6139fca",
   "metadata": {},
   "outputs": [],
   "source": [
    "## random planes\n",
    "\n",
    "np.random.seed(0)\n",
    "\n",
    "num_dimensions = 2\n",
    "\n",
    "num_planes = 3\n",
    "\n",
    "random_planes_matrix = np.random.normal(size = (num_planes, num_dimensions))\n",
    "\n",
    "print(random_planes_matrix)"
   ]
  },
  {
   "cell_type": "code",
   "execution_count": null,
   "id": "692a216e",
   "metadata": {},
   "outputs": [],
   "source": [
    "v = np.array([[2, 2]])"
   ]
  },
  {
   "cell_type": "code",
   "execution_count": null,
   "id": "6978b174",
   "metadata": {},
   "outputs": [],
   "source": [
    "def side_of_plane_matrix(P, v):\n",
    "    \n",
    "    dotproduct = np.dot(P, v.T)\n",
    "    \n",
    "    sign_of_dot_product = np.sign(dotproduct) \n",
    "    \n",
    "    return sign_of_dot_product"
   ]
  },
  {
   "cell_type": "code",
   "execution_count": null,
   "id": "514bd441",
   "metadata": {},
   "outputs": [],
   "source": [
    "def hash_multi_plane_matrix(P, v, num_planes):\n",
    "    \n",
    "    sides_matrix = side_of_plane_matrix(P, v)\n",
    "    \n",
    "    hash_value = 0\n",
    "    \n",
    "    for i in range(num_planes):\n",
    "        \n",
    "        sign = sides_matrix[i].item()\n",
    "        \n",
    "        hash_i = 1 if sign >=0 else 0\n",
    "        \n",
    "        hash_value += 2**i * hash_i\n",
    "        \n",
    "    return hash_value"
   ]
  },
  {
   "cell_type": "code",
   "execution_count": null,
   "id": "9b4cb466",
   "metadata": {},
   "outputs": [],
   "source": [
    "## document vectors\n",
    "\n",
    "word_embedding = {\"I\": np.array([1,0,1]),\n",
    "                   \"love\": np.array([-1,0,1]),\n",
    "                   \"learning\": np.array([1,0,1])\n",
    "                  }\n",
    "words_in_document = ['I', 'love', 'learning', 'not_a_word']\n",
    "\n",
    "document_embedding = np.array([0,0,0])\n",
    "\n",
    "for word in words_in_document:\n",
    "    \n",
    "    document_embedding += word_embedding.get(word, 0)\n",
    "    \n",
    "print(document_embedding)"
   ]
  }
 ],
 "metadata": {
  "kernelspec": {
   "display_name": "Python 3 (ipykernel)",
   "language": "python",
   "name": "python3"
  },
  "language_info": {
   "codemirror_mode": {
    "name": "ipython",
    "version": 3
   },
   "file_extension": ".py",
   "mimetype": "text/x-python",
   "name": "python",
   "nbconvert_exporter": "python",
   "pygments_lexer": "ipython3",
   "version": "3.8.12"
  }
 },
 "nbformat": 4,
 "nbformat_minor": 5
}
