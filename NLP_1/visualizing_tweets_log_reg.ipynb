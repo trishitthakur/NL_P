{
 "cells": [
  {
   "cell_type": "markdown",
   "id": "db50a8c9",
   "metadata": {},
   "source": [
    "## from natural langauge specialization and coded by trishit nath thakur"
   ]
  },
  {
   "cell_type": "markdown",
   "id": "0c1e5af5",
   "metadata": {},
   "source": [
    "# visualizing tweets and losgistic regression model"
   ]
  },
  {
   "cell_type": "code",
   "execution_count": null,
   "id": "2744dee4",
   "metadata": {},
   "outputs": [],
   "source": [
    "import nltk                         # NLP toolbox\n",
    "from os import getcwd\n",
    "import pandas as pd                 # Library for Dataframes \n",
    "from nltk.corpus import twitter_samples \n",
    "import matplotlib.pyplot as plt     # Library for visualization\n",
    "import numpy as np                  # Library for math functions\n",
    "\n",
    "from utils import process_tweet, build_freqs # Our functions for NLP"
   ]
  },
  {
   "cell_type": "code",
   "execution_count": null,
   "id": "2843f8bd",
   "metadata": {},
   "outputs": [],
   "source": [
    "## loading the dataset"
   ]
  },
  {
   "cell_type": "code",
   "execution_count": null,
   "id": "18141a11",
   "metadata": {},
   "outputs": [],
   "source": [
    "all_positive_tweets = twitter_samples.strings('positive_tweets.json')\n",
    "all_negative_tweets = twitter_samples.strings('negative_tweets.json')\n",
    "\n",
    "tweets = all_positive_tweets + all_negative_tweets ## Concatenate the lists. \n",
    "labels = np.append(np.ones((len(all_positive_tweets),1)), np.zeros((len(all_negative_tweets),1)), axis = 0)\n",
    "\n",
    "train_pos  = all_positive_tweets[:4000]\n",
    "train_neg  = all_negative_tweets[:4000]\n",
    "\n",
    "train_x = train_pos + train_neg\n"
   ]
  },
  {
   "cell_type": "code",
   "execution_count": null,
   "id": "30020be3",
   "metadata": {},
   "outputs": [],
   "source": [
    "## load extracted features"
   ]
  },
  {
   "cell_type": "code",
   "execution_count": null,
   "id": "d0f1a59e",
   "metadata": {},
   "outputs": [],
   "source": [
    "data = pd.read_csv('logistic_features.csv')"
   ]
  },
  {
   "cell_type": "code",
   "execution_count": null,
   "id": "529714f2",
   "metadata": {},
   "outputs": [],
   "source": [
    "X = data[['bias', 'positive', 'negetive']].values\n",
    "\n",
    "y = data['sentiment'].values"
   ]
  },
  {
   "cell_type": "code",
   "execution_count": null,
   "id": "b2f7147a",
   "metadata": {},
   "outputs": [],
   "source": [
    "## plotting the sample"
   ]
  },
  {
   "cell_type": "code",
   "execution_count": null,
   "id": "8e1c4660",
   "metadata": {},
   "outputs": [],
   "source": [
    "fig, ax = plt.subplots(figsize = (8,8))\n",
    "colors = ['red', 'green']\n",
    "\n",
    "ax.scatter(X[:, 1], X[:,2], c=colors[int(k)]for k in y)\n",
    "\n",
    "plt.xlabel(\"Positive\")\n",
    "plt.ylabel(\"Negative\")"
   ]
  },
  {
   "cell_type": "code",
   "execution_count": null,
   "id": "df14a99e",
   "metadata": {},
   "outputs": [],
   "source": [
    "## plotting model alongside the data"
   ]
  },
  {
   "cell_type": "code",
   "execution_count": null,
   "id": "7f294bba",
   "metadata": {},
   "outputs": [],
   "source": [
    "def neg(theta, pos):\n",
    "    return (-theta[0] - theta[1]*pos)/theta[2]\n",
    "\n",
    "def direction(theta, pos):\n",
    "    return pos * theta[2]/theta[1]"
   ]
  },
  {
   "cell_type": "code",
   "execution_count": null,
   "id": "a4018ef9",
   "metadata": {},
   "outputs": [],
   "source": [
    "fig, ax = plt.subplots(figsize = (8,8))\n",
    "colors = ['red', 'green']\n",
    "\n",
    "ax.scatter(X[:, 1], X[:,2], c=colors[int(k)]for k in y)\n",
    "\n",
    "plt.xlabel(\"Positive\")\n",
    "plt.ylabel(\"Negative\")"
   ]
  },
  {
   "cell_type": "code",
   "execution_count": null,
   "id": "4b3182f0",
   "metadata": {},
   "outputs": [],
   "source": [
    "maxpos = np.max(X[:, 1])\n",
    "offset = 5000        # The pos value for the direction vectors origin\n",
    "\n",
    "# Plot a gray line that divides the 2 areas\n",
    "ax.plot([0, maxpos], [neg(theta, 0)], [neg(theta, maxpos)], color = 'gray')\n",
    "\n",
    "# green line pointing in positive direction\n",
    "\n",
    "ax.arrow(offset, neg(theta, offset), offset, direction(theta, offset), head_width=500, head_length=500, fc='g', ec='g')\n",
    "\n",
    "# red line pointing in negetive direction\n",
    "\n",
    "ax.arrow(offset, neg(theta, offset), -offset, -direction(theta, offset), head_width=500, head_length=500, fc='r', ec='r')\n",
    "\n",
    "plt.show()"
   ]
  }
 ],
 "metadata": {
  "kernelspec": {
   "display_name": "Python 3 (ipykernel)",
   "language": "python",
   "name": "python3"
  },
  "language_info": {
   "codemirror_mode": {
    "name": "ipython",
    "version": 3
   },
   "file_extension": ".py",
   "mimetype": "text/x-python",
   "name": "python",
   "nbconvert_exporter": "python",
   "pygments_lexer": "ipython3",
   "version": "3.8.12"
  }
 },
 "nbformat": 4,
 "nbformat_minor": 5
}
