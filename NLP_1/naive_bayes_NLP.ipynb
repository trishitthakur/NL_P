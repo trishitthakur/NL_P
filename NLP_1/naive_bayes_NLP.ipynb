{
 "cells": [
  {
   "cell_type": "code",
   "execution_count": null,
   "id": "ebe43d46",
   "metadata": {},
   "outputs": [],
   "source": [
    "## from nlp specialization and coded by trishit nath thakur"
   ]
  },
  {
   "cell_type": "markdown",
   "id": "d1ba0eed",
   "metadata": {},
   "source": [
    "# Naive Bayes"
   ]
  },
  {
   "cell_type": "code",
   "execution_count": null,
   "id": "11b9a504",
   "metadata": {},
   "outputs": [],
   "source": [
    "from utils import process_tweet, lookup\n",
    "import pdb\n",
    "from nltk.corpus import stopwords, twitter_samples\n",
    "import numpy as np\n",
    "import pandas as pd\n",
    "import nltk\n",
    "import string\n",
    "from nltk.tokenize import TweetTokenizer\n",
    "from os import getcwd"
   ]
  },
  {
   "cell_type": "code",
   "execution_count": null,
   "id": "96213dea",
   "metadata": {},
   "outputs": [],
   "source": [
    "nltk.download('stopwords')\n",
    "nltk.download('twitter_samples')"
   ]
  },
  {
   "cell_type": "code",
   "execution_count": null,
   "id": "03aaaf41",
   "metadata": {},
   "outputs": [],
   "source": [
    "all_positive_tweets = twitter_samples.strings('positive_tweets.json')\n",
    "all_negative_tweets = twitter_samples.strings('negative_tweets.json')"
   ]
  },
  {
   "cell_type": "code",
   "execution_count": null,
   "id": "2ebcb1a5",
   "metadata": {},
   "outputs": [],
   "source": [
    "test_pos = all_positive_tweets[4000:]\n",
    "train_pos = all_positive_tweets[:4000]\n",
    "test_neg = all_negative_tweets[4000:]\n",
    "train_neg = all_negative_tweets[:4000]\n",
    "\n",
    "train_x = train_pos + train_neg\n",
    "test_x = test_pos + test_neg"
   ]
  },
  {
   "cell_type": "code",
   "execution_count": null,
   "id": "3b95cba9",
   "metadata": {},
   "outputs": [],
   "source": [
    "train_y = np.append(np.ones(len(train_pos)), np.zeros(len(train_neg)))\n",
    "test_y = np.append(np.ones(len(test_pos)), np.zeros(len(test_neg)))"
   ]
  },
  {
   "cell_type": "code",
   "execution_count": null,
   "id": "3ca63780",
   "metadata": {},
   "outputs": [],
   "source": [
    "## function count_tweets() that takes a list of tweets as input, cleans all of them, and returns a dictionary."
   ]
  },
  {
   "cell_type": "code",
   "execution_count": null,
   "id": "a8e4c120",
   "metadata": {},
   "outputs": [],
   "source": [
    "def count_tweets(result, tweets, ys):\n",
    "    '''\n",
    "    Input:\n",
    "        result: a dictionary that will be used to map each pair to its frequency\n",
    "        tweets: a list of tweets\n",
    "        ys: a list corresponding to the sentiment of each tweet (either 0 or 1)\n",
    "    Output:\n",
    "        result: a dictionary mapping each pair to its frequency\n",
    "    '''\n",
    "    for y,tweet in zip(ys,tweets):\n",
    "        for word in process_tweet(tweets):\n",
    "            pair = (word, y)\n",
    "            \n",
    "            if pair in result:\n",
    "                result[pair] += 1\n",
    "            else:\n",
    "                result[pair] = 1\n",
    "    \n",
    "    return result"
   ]
  },
  {
   "cell_type": "code",
   "execution_count": null,
   "id": "f5f60cd8",
   "metadata": {},
   "outputs": [],
   "source": [
    "result = {}\n",
    "tweets = ['i am happy', 'i am tricked', 'i am sad', 'i am tired', 'i am tired']\n",
    "ys = [1, 0, 0, 0, 0]\n",
    "count_tweets(result, tweets, ys)"
   ]
  },
  {
   "cell_type": "code",
   "execution_count": null,
   "id": "69b172e1",
   "metadata": {},
   "outputs": [],
   "source": [
    "## train model using naive bayes"
   ]
  },
  {
   "cell_type": "code",
   "execution_count": null,
   "id": "1c2df36a",
   "metadata": {},
   "outputs": [],
   "source": [
    "def train_naive_bayes(freqs, train_x, train_y):\n",
    "    '''\n",
    "    Input:\n",
    "        freqs: dictionary from (word, label) to how often the word appears\n",
    "        train_x: a list of tweets\n",
    "        train_y: a list of labels correponding to the tweets (0,1)\n",
    "    Output:\n",
    "        logprior: the log prior\n",
    "        loglikelihood: the log likelihood of you Naive bayes equation.\n",
    "    '''\n",
    "loglikelihood = {}\n",
    "logprior = 0\n",
    "\n",
    "# V, the number of unique words in the vocabulary\n",
    "\n",
    "vocab = set([pair[0] for pair in freqs.keys()])\n",
    "V = len(vocab)\n",
    "\n",
    "N_pos = N_neg = V_pos = V_neg = 0\n",
    "\n",
    "for pair in freqs.keys():\n",
    "    if pair[1] > 0:\n",
    "        # increment the count of unique positive words by 1\n",
    "            V_pos += 1\n",
    "         # Increment the number of positive words by the count for this (word, label) pair\n",
    "            N_pos += freqs[pair]\n",
    "    \n",
    "    else:\n",
    "            V_neg += 1\n",
    "            N_neg += freqs[pair]\n",
    "            \n",
    "D = len(train_y)\n",
    "\n",
    "# calculating number of positive & negetive documents\n",
    "\n",
    "D_pos = (len(list(filter(lambda x: x>0, train_y))))\n",
    "\n",
    "D_neg = (len(list(filter(lambda x: x<=0, train_y))))\n",
    "\n",
    "# calculating the logprior\n",
    "\n",
    "logprior = np.log(D_pos) - np.log(D_neg)\n",
    "\n",
    "for word in vocab:\n",
    "    freq_pos = lookup(freqs, word, 1)\n",
    "    freq_neg = lookup(freqs, word, 0)\n",
    "    \n",
    "# calculate the probability that each word is positive, and negative\n",
    "\n",
    "    p_w_pos = (freq_pos + 1)/(N_pos + V)\n",
    "    p_w_neg = (freq_neg + 1)/(N_neg + V)\n",
    "    \n",
    "    loglikelihood[word] = np.log(p_w_pos/p_w_neg)\n",
    "    \n",
    "return logprior, loglikelihood"
   ]
  },
  {
   "cell_type": "code",
   "execution_count": null,
   "id": "23c7e70d",
   "metadata": {},
   "outputs": [],
   "source": [
    "## testing naive bayes"
   ]
  },
  {
   "cell_type": "code",
   "execution_count": null,
   "id": "90cebd61",
   "metadata": {},
   "outputs": [],
   "source": [
    "def naive_bayes_predict(tweet, logprior, loglikelihood):\n",
    "    '''\n",
    "    Input:\n",
    "        tweet: a string\n",
    "        logprior: a number\n",
    "        loglikelihood: a dictionary of words mapping to numbers\n",
    "    Output:\n",
    "        p: the sum of all the logliklihoods of each word in the tweet + logprior '''\n",
    "        \n",
    "    word_l = process_tweet(tweet)\n",
    "    \n",
    "    p = 0\n",
    "    \n",
    "    p += logprior\n",
    "    \n",
    "    for word in word_l:\n",
    "        if word in loglikelihood:\n",
    "            p += loglikelihood[word]\n",
    "    return p"
   ]
  },
  {
   "cell_type": "code",
   "execution_count": null,
   "id": "328dbac1",
   "metadata": {},
   "outputs": [],
   "source": [
    "my_tweet = 'She smiled.'\n",
    "p = naive_bayes_predict(my_tweet, logprior, loglikelihood)\n",
    "print('The expected output is', p)"
   ]
  },
  {
   "cell_type": "code",
   "execution_count": null,
   "id": "bdf51432",
   "metadata": {},
   "outputs": [],
   "source": [
    "def test_naive_bayes(test_x, test_y, logprior, loglikelihood):\n",
    "    \"\"\"\n",
    "    Input:\n",
    "        test_x: A list of tweets\n",
    "        test_y: the corresponding labels for the list of tweets\n",
    "        logprior: the logprior\n",
    "        loglikelihood: a dictionary with the loglikelihoods for each word\n",
    "    Output:\n",
    "        accuracy: (# of tweets classified correctly)/(total # of tweets)\n",
    "    \"\"\"\n",
    "    accuracy = 0\n",
    "    \n",
    "    y_hats = []\n",
    "    \n",
    "    for tweet in test_x:\n",
    "        if naive_bayes_predict(tweet, logprior, loglikelihood) > 0:\n",
    "            y_hat_i = 1\n",
    "        \n",
    "        else:\n",
    "            y_hat_i = 0\n",
    "            \n",
    "        y_hats.append(y_hat_i)\n",
    "    \n",
    "    error = np.mean(np.absolute(y_hats - test_y))\n",
    "    \n",
    "    accuracy = 1 - error\n",
    "    \n",
    "    return accuracy\n",
    "            "
   ]
  },
  {
   "cell_type": "code",
   "execution_count": null,
   "id": "cbd4018e",
   "metadata": {},
   "outputs": [],
   "source": [
    "for tweet in ['I am happy', 'I am bad', 'this movie should have been great.']:\n",
    "    p = naive_bayes_predict(tweet, logprior, loglikelihood)\n",
    "     \n",
    "    print(f'{tweet} -> {p:.2f}')"
   ]
  },
  {
   "cell_type": "code",
   "execution_count": null,
   "id": "7f2f0806",
   "metadata": {},
   "outputs": [],
   "source": [
    "## Filter words by Ratio of positive to negative counts"
   ]
  },
  {
   "cell_type": "code",
   "execution_count": null,
   "id": "6cf4bbba",
   "metadata": {},
   "outputs": [],
   "source": [
    "def get_ratio(freqs, word):\n",
    "    '''\n",
    "    Input:\n",
    "        freqs: dictionary containing the words\n",
    "\n",
    "    Output: a dictionary with keys 'positive', 'negative', and 'ratio'.\n",
    "        Example: {'positive': 10, 'negative': 20, 'ratio': 0.5}\n",
    "    '''\n",
    "    pos_neg_ratio = {'positive':0, 'negetive':0, 'ratio':0.0}\n",
    "    \n",
    "    pos_neg_ratio['positive'] = lookup(freqs, word, 1)\n",
    "    \n",
    "    pos_neg_ratio['negetive'] = lookup(freqs, word, 0)\n",
    "    \n",
    "    pos_neg_ratio['ratio'] = (pos_neg_ratio['positive'] + 1)/(pos_neg_ratio['negetive'] + 1)\n",
    "    \n",
    "    return pos_neg_ratio"
   ]
  }
 ],
 "metadata": {
  "kernelspec": {
   "display_name": "Python 3 (ipykernel)",
   "language": "python",
   "name": "python3"
  },
  "language_info": {
   "codemirror_mode": {
    "name": "ipython",
    "version": 3
   },
   "file_extension": ".py",
   "mimetype": "text/x-python",
   "name": "python",
   "nbconvert_exporter": "python",
   "pygments_lexer": "ipython3",
   "version": "3.8.12"
  }
 },
 "nbformat": 4,
 "nbformat_minor": 5
}
