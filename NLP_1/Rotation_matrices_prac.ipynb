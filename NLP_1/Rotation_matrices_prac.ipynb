{
 "cells": [
  {
   "cell_type": "markdown",
   "id": "38f96a85",
   "metadata": {},
   "source": [
    "# Rotation matrices practice"
   ]
  },
  {
   "cell_type": "code",
   "execution_count": null,
   "id": "8841b1ae",
   "metadata": {},
   "outputs": [],
   "source": [
    "## from the NLP specialization and coded by trishit nath thakur"
   ]
  },
  {
   "cell_type": "code",
   "execution_count": null,
   "id": "a19a5a55",
   "metadata": {},
   "outputs": [],
   "source": [
    "import numpy as np                     \n",
    "import matplotlib.pyplot as plt        \n",
    "from utils_nb import plot_vectors      "
   ]
  },
  {
   "cell_type": "code",
   "execution_count": null,
   "id": "32335812",
   "metadata": {},
   "outputs": [],
   "source": [
    "R = np.array([[2, 0],\n",
    "              [0, -2]])"
   ]
  },
  {
   "cell_type": "code",
   "execution_count": null,
   "id": "bfb1ea00",
   "metadata": {},
   "outputs": [],
   "source": [
    "x = np.array([[1, 1]])"
   ]
  },
  {
   "cell_type": "code",
   "execution_count": null,
   "id": "a2434c55",
   "metadata": {},
   "outputs": [],
   "source": [
    "y = np.dot(x, R)"
   ]
  },
  {
   "cell_type": "code",
   "execution_count": null,
   "id": "046f7f52",
   "metadata": {},
   "outputs": [],
   "source": [
    "plot_vectors([x], axes = [4,4], fname = 'transform_x.svg')"
   ]
  },
  {
   "cell_type": "code",
   "execution_count": null,
   "id": "68b719c7",
   "metadata": {},
   "outputs": [],
   "source": [
    "## rotating vectors\n",
    "\n",
    "angle = 100 * (np.pi/180) \n",
    "\n",
    "Ro = np.array([[np.cos(angle), -np.sin(angle)], [np.sin(angle), np.cos(angle)]])\n",
    "\n",
    "x2 = np.array([2, 2]).reshape(1, -1) # make it a row vector\n",
    "\n",
    "y2 = np.dot(x2, Ro)\n",
    "\n",
    "## note that norm of x2 is equal to that of y2\n",
    "\n",
    "print('\\n Rotation matrix norm is', np.linalg.norm(Ro))"
   ]
  },
  {
   "cell_type": "code",
   "execution_count": null,
   "id": "e64a81cf",
   "metadata": {},
   "outputs": [],
   "source": [
    "plot_vectors([x2, y2], fname='transform_02.svg')"
   ]
  }
 ],
 "metadata": {
  "kernelspec": {
   "display_name": "Python 3 (ipykernel)",
   "language": "python",
   "name": "python3"
  },
  "language_info": {
   "codemirror_mode": {
    "name": "ipython",
    "version": 3
   },
   "file_extension": ".py",
   "mimetype": "text/x-python",
   "name": "python",
   "nbconvert_exporter": "python",
   "pygments_lexer": "ipython3",
   "version": "3.8.12"
  }
 },
 "nbformat": 4,
 "nbformat_minor": 5
}
