{
 "cells": [
  {
   "cell_type": "markdown",
   "id": "e5464ee4",
   "metadata": {},
   "source": [
    "# Implementing PCA"
   ]
  },
  {
   "cell_type": "code",
   "execution_count": null,
   "id": "4dbb2e50",
   "metadata": {},
   "outputs": [],
   "source": [
    "## From the NLP specialization and coded by trishit nath thakur"
   ]
  },
  {
   "cell_type": "code",
   "execution_count": null,
   "id": "188dd9cd",
   "metadata": {},
   "outputs": [],
   "source": [
    "import numpy as np                         \n",
    "import matplotlib.pyplot as plt           \n",
    "from sklearn.decomposition import PCA     \n",
    "import pandas as pd                       \n",
    "import math                               \n",
    "import random                              "
   ]
  },
  {
   "cell_type": "code",
   "execution_count": null,
   "id": "1012575a",
   "metadata": {},
   "outputs": [],
   "source": [
    "##Consider the base case when y = n * x\n",
    "    \n",
    "n = 1        # amount of correlation\n",
    "x = np.random.uniform(1,2,1000) # generate 1000 numbers between 1,2\n",
    "y = x.copy() * n\n",
    "\n",
    "x = x - np.mean(x) # Center x. Remove its mean\n",
    "y = y - np.mean(y) # Center y. Remove its mean\n",
    "\n",
    "data = pd.Dataframe({'x' = x, 'y' = y})  # Create a data frame with x and y\n",
    "plt.scatter(data.x, data.y) # plotting original data in blue\n",
    "\n",
    "pca = PCA(n_components=2)\n",
    "\n",
    "pcaTr = pca.fit(data)\n",
    "\n",
    "rotatedData = pcaTr.transform(data)\n",
    "\n",
    "# create a dataframe with new variables PC1 and PC2\n",
    "\n",
    "dataPCA = pd.Dataframe(data = rotatedData, columns = ['PC1', 'PC2'])\n",
    "\n",
    "# plot the transformed data in orange\n",
    "\n",
    "plt.scatter(dataPCA.PC1, dataPCA.PC2)\n",
    "plt.show()"
   ]
  },
  {
   "cell_type": "code",
   "execution_count": null,
   "id": "9b42100e",
   "metadata": {},
   "outputs": [],
   "source": [
    "## pcaTr.components_ has the rotation matrix\n",
    "## pcaTr.explained_variance_ has the explained variance of each principal component"
   ]
  },
  {
   "cell_type": "code",
   "execution_count": null,
   "id": "289af5a3",
   "metadata": {},
   "outputs": [],
   "source": [
    "## correlated normal random variable\n",
    "  \n",
    "import matplotlib.lines as mlines\n",
    "import matplotlib.transforms as mtransforms\n",
    "\n",
    "random.seed(100)\n",
    "\n",
    "std1 = 1            # std of first random variable\n",
    "std2 = 0.333        # std of second random variable\n",
    "\n",
    "x = np.random.normal(0, std1, 1000) # Get 1000 samples from x ~ N(0, std1)\n",
    "y = np.random.normal(0, std2, 1000)\n",
    " \n",
    "x = x - np.mean(x) # Center x \n",
    "y = y - np.mean(y) # Center y\n",
    "\n",
    "n = 1 # magnitude of covariance\n",
    "angle = np.arctan(1/n)\n",
    "\n",
    "rotationMatrix = np.array([[np.cos(angle), np.sin(angle)], [-np.sin(angle), np.cos(angle)]])\n",
    "\n",
    "# Create a matrix with columns x and y\n",
    "    \n",
    "xy = np.concatenate(([x], [y]), axis = 0).T\n",
    "\n",
    "data = np.dot(xy, rotationMatrix) # Return a nD array\n",
    "\n",
    "plt.scatter(data[:,0], data[:,1])\n",
    "plt.show()"
   ]
  },
  {
   "cell_type": "code",
   "execution_count": null,
   "id": "919801a9",
   "metadata": {},
   "outputs": [],
   "source": [
    "plt.scatter(data[:,0], data[:,1])  # print original data in blue\n",
    "\n",
    "pca = PCA(n_components=2)\n",
    "\n",
    "pcaTr = pca.fit(data)\n",
    "\n",
    "dataPCA = pcaTr.transform(data)\n",
    "\n",
    "print(pcaTr.components_)        # print eigen vector or principal components = first row in dirn [1,n]\n",
    "\n",
    "print(pcaTr.explained_variance_)  # print eigen values or explained variance\n",
    "\n",
    "plt.scatter(dataPCA[:,0], dataPCA[:,1]) # rotated data in orange\n",
    "\n",
    "# plotting first component axes using explained variance to scale the vector\n",
    "\n",
    "plt.plot([0, rotationMatrix[0][0] * std1 * 3], [0, rotationMatrix[0][1] * std1 * 3], 'k-', color = 'red')\n",
    "\n",
    "# plotting second component axes using explained variance to scale the vector\n",
    "\n",
    "plt.plot([0, rotationMatrix[1][0] * std2 * 3], [0, rotationMatrix[1][1] * std2 * 3], 'k-', color = 'green')\n",
    "\n",
    "plt.show()"
   ]
  },
  {
   "cell_type": "code",
   "execution_count": null,
   "id": "8b17c02b",
   "metadata": {},
   "outputs": [],
   "source": [
    "## original data and its corresponding projection over the first and second principal components\n",
    "\n",
    "nPoints = len(data)\n",
    "\n",
    "# original data in blue\n",
    "plt.scatter(data[:,0], data[:,1])\n",
    "\n",
    "# projection along the first component in orange\n",
    "plt.scatter(data[:,0], np.zeros(nPoints))\n",
    "\n",
    "# projection along the second component in green\n",
    "plt.scatter(np.zeros(nPoints), data[:,1])\n",
    "\n",
    "plt.show()\n"
   ]
  }
 ],
 "metadata": {
  "kernelspec": {
   "display_name": "Python 3 (ipykernel)",
   "language": "python",
   "name": "python3"
  },
  "language_info": {
   "codemirror_mode": {
    "name": "ipython",
    "version": 3
   },
   "file_extension": ".py",
   "mimetype": "text/x-python",
   "name": "python",
   "nbconvert_exporter": "python",
   "pygments_lexer": "ipython3",
   "version": "3.8.12"
  }
 },
 "nbformat": 4,
 "nbformat_minor": 5
}
